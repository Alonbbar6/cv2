{
  "nbformat": 4,
  "nbformat_minor": 0,
  "metadata": {
    "colab": {
      "provenance": [],
      "include_colab_link": true
    },
    "kernelspec": {
      "name": "python3",
      "display_name": "Python 3"
    },
    "language_info": {
      "name": "python"
    }
  },
  "cells": [
    {
      "cell_type": "markdown",
      "metadata": {
        "id": "view-in-github",
        "colab_type": "text"
      },
      "source": [
        "<a href=\"https://colab.research.google.com/github/fenago/cv2/blob/main/openai_swarm_get_started.ipynb\" target=\"_parent\"><img src=\"https://colab.research.google.com/assets/colab-badge.svg\" alt=\"Open In Colab\"/></a>"
      ]
    },
    {
      "cell_type": "markdown",
      "source": [
        "# OpenAI Swarm Get Started\n",
        "\n",
        "OpenAI Swarm is an educational framework exploring ergonomic, lightweight multi-agent orchestration. It's managed by OpenAI Solution team.\n",
        "\n",
        "GitHub: https://github.com/openai/swarm\n",
        "\n",
        "In this get-started tutorial, we will showcase how multi-agents are coordinated by Swarm, and walk you through the basic components:\n",
        "- Swarm client\n",
        "- Agents\n",
        "- Functions\n",
        "  - Basics\n",
        "  - Schema\n",
        "\n",
        "## What is AI Agent?\n",
        "\n",
        "AI agents are autonomous intelligent systems performing specific tasks without human intervention."
      ],
      "metadata": {
        "id": "_zIxvC_-DQPl"
      }
    },
    {
      "cell_type": "markdown",
      "source": [
        "## Overview\n",
        "\n",
        "Let's take a quick overview with some examples on Swarm usage."
      ],
      "metadata": {
        "id": "g9bdZ6HrEXEB"
      }
    },
    {
      "cell_type": "code",
      "execution_count": 20,
      "metadata": {
        "id": "lvqYVHrTumH1",
        "colab": {
          "base_uri": "https://localhost:8080/"
        },
        "outputId": "eaf99566-b91f-4834-8218-444e1094986d"
      },
      "outputs": [
        {
          "output_type": "stream",
          "name": "stdout",
          "text": [
            "Collecting git+https://github.com/openai/swarm.git\n",
            "  Cloning https://github.com/openai/swarm.git to /tmp/pip-req-build-cnil9hjy\n",
            "  Running command git clone --filter=blob:none --quiet https://github.com/openai/swarm.git /tmp/pip-req-build-cnil9hjy\n",
            "  Resolved https://github.com/openai/swarm.git to commit 0c82d7d868bb8e2d380dfd2a319b5c3a1f4c0cb9\n",
            "  Installing build dependencies ... \u001b[?25l\u001b[?25hdone\n",
            "  Getting requirements to build wheel ... \u001b[?25l\u001b[?25hdone\n",
            "  Preparing metadata (pyproject.toml) ... \u001b[?25l\u001b[?25hdone\n",
            "Requirement already satisfied: numpy in /usr/local/lib/python3.11/dist-packages (from swarm==0.1.0) (2.0.2)\n",
            "Requirement already satisfied: openai>=1.33.0 in /usr/local/lib/python3.11/dist-packages (from swarm==0.1.0) (1.70.0)\n",
            "Requirement already satisfied: pytest in /usr/local/lib/python3.11/dist-packages (from swarm==0.1.0) (8.3.5)\n",
            "Requirement already satisfied: requests in /usr/local/lib/python3.11/dist-packages (from swarm==0.1.0) (2.32.3)\n",
            "Requirement already satisfied: tqdm in /usr/local/lib/python3.11/dist-packages (from swarm==0.1.0) (4.67.1)\n",
            "Requirement already satisfied: pre-commit in /usr/local/lib/python3.11/dist-packages (from swarm==0.1.0) (4.2.0)\n",
            "Requirement already satisfied: instructor in /usr/local/lib/python3.11/dist-packages (from swarm==0.1.0) (1.7.9)\n",
            "Requirement already satisfied: anyio<5,>=3.5.0 in /usr/local/lib/python3.11/dist-packages (from openai>=1.33.0->swarm==0.1.0) (4.9.0)\n",
            "Requirement already satisfied: distro<2,>=1.7.0 in /usr/local/lib/python3.11/dist-packages (from openai>=1.33.0->swarm==0.1.0) (1.9.0)\n",
            "Requirement already satisfied: httpx<1,>=0.23.0 in /usr/local/lib/python3.11/dist-packages (from openai>=1.33.0->swarm==0.1.0) (0.28.1)\n",
            "Requirement already satisfied: jiter<1,>=0.4.0 in /usr/local/lib/python3.11/dist-packages (from openai>=1.33.0->swarm==0.1.0) (0.8.2)\n",
            "Requirement already satisfied: pydantic<3,>=1.9.0 in /usr/local/lib/python3.11/dist-packages (from openai>=1.33.0->swarm==0.1.0) (2.11.2)\n",
            "Requirement already satisfied: sniffio in /usr/local/lib/python3.11/dist-packages (from openai>=1.33.0->swarm==0.1.0) (1.3.1)\n",
            "Requirement already satisfied: typing-extensions<5,>=4.11 in /usr/local/lib/python3.11/dist-packages (from openai>=1.33.0->swarm==0.1.0) (4.13.1)\n",
            "Requirement already satisfied: aiohttp<4.0.0,>=3.9.1 in /usr/local/lib/python3.11/dist-packages (from instructor->swarm==0.1.0) (3.11.15)\n",
            "Requirement already satisfied: docstring-parser<1.0,>=0.16 in /usr/local/lib/python3.11/dist-packages (from instructor->swarm==0.1.0) (0.16)\n",
            "Requirement already satisfied: jinja2<4.0.0,>=3.1.4 in /usr/local/lib/python3.11/dist-packages (from instructor->swarm==0.1.0) (3.1.6)\n",
            "Requirement already satisfied: pydantic-core<3.0.0,>=2.18.0 in /usr/local/lib/python3.11/dist-packages (from instructor->swarm==0.1.0) (2.33.1)\n",
            "Requirement already satisfied: rich<14.0.0,>=13.7.0 in /usr/local/lib/python3.11/dist-packages (from instructor->swarm==0.1.0) (13.9.4)\n",
            "Requirement already satisfied: tenacity<10.0.0,>=9.0.0 in /usr/local/lib/python3.11/dist-packages (from instructor->swarm==0.1.0) (9.1.2)\n",
            "Requirement already satisfied: typer<1.0.0,>=0.9.0 in /usr/local/lib/python3.11/dist-packages (from instructor->swarm==0.1.0) (0.15.2)\n",
            "Requirement already satisfied: charset-normalizer<4,>=2 in /usr/local/lib/python3.11/dist-packages (from requests->swarm==0.1.0) (3.4.1)\n",
            "Requirement already satisfied: idna<4,>=2.5 in /usr/local/lib/python3.11/dist-packages (from requests->swarm==0.1.0) (3.10)\n",
            "Requirement already satisfied: urllib3<3,>=1.21.1 in /usr/local/lib/python3.11/dist-packages (from requests->swarm==0.1.0) (2.3.0)\n",
            "Requirement already satisfied: certifi>=2017.4.17 in /usr/local/lib/python3.11/dist-packages (from requests->swarm==0.1.0) (2025.1.31)\n",
            "Requirement already satisfied: cfgv>=2.0.0 in /usr/local/lib/python3.11/dist-packages (from pre-commit->swarm==0.1.0) (3.4.0)\n",
            "Requirement already satisfied: identify>=1.0.0 in /usr/local/lib/python3.11/dist-packages (from pre-commit->swarm==0.1.0) (2.6.9)\n",
            "Requirement already satisfied: nodeenv>=0.11.1 in /usr/local/lib/python3.11/dist-packages (from pre-commit->swarm==0.1.0) (1.9.1)\n",
            "Requirement already satisfied: pyyaml>=5.1 in /usr/local/lib/python3.11/dist-packages (from pre-commit->swarm==0.1.0) (6.0.2)\n",
            "Requirement already satisfied: virtualenv>=20.10.0 in /usr/local/lib/python3.11/dist-packages (from pre-commit->swarm==0.1.0) (20.30.0)\n",
            "Requirement already satisfied: iniconfig in /usr/local/lib/python3.11/dist-packages (from pytest->swarm==0.1.0) (2.1.0)\n",
            "Requirement already satisfied: packaging in /usr/local/lib/python3.11/dist-packages (from pytest->swarm==0.1.0) (24.2)\n",
            "Requirement already satisfied: pluggy<2,>=1.5 in /usr/local/lib/python3.11/dist-packages (from pytest->swarm==0.1.0) (1.5.0)\n",
            "Requirement already satisfied: aiohappyeyeballs>=2.3.0 in /usr/local/lib/python3.11/dist-packages (from aiohttp<4.0.0,>=3.9.1->instructor->swarm==0.1.0) (2.6.1)\n",
            "Requirement already satisfied: aiosignal>=1.1.2 in /usr/local/lib/python3.11/dist-packages (from aiohttp<4.0.0,>=3.9.1->instructor->swarm==0.1.0) (1.3.2)\n",
            "Requirement already satisfied: attrs>=17.3.0 in /usr/local/lib/python3.11/dist-packages (from aiohttp<4.0.0,>=3.9.1->instructor->swarm==0.1.0) (25.3.0)\n",
            "Requirement already satisfied: frozenlist>=1.1.1 in /usr/local/lib/python3.11/dist-packages (from aiohttp<4.0.0,>=3.9.1->instructor->swarm==0.1.0) (1.5.0)\n",
            "Requirement already satisfied: multidict<7.0,>=4.5 in /usr/local/lib/python3.11/dist-packages (from aiohttp<4.0.0,>=3.9.1->instructor->swarm==0.1.0) (6.3.2)\n",
            "Requirement already satisfied: propcache>=0.2.0 in /usr/local/lib/python3.11/dist-packages (from aiohttp<4.0.0,>=3.9.1->instructor->swarm==0.1.0) (0.3.1)\n",
            "Requirement already satisfied: yarl<2.0,>=1.17.0 in /usr/local/lib/python3.11/dist-packages (from aiohttp<4.0.0,>=3.9.1->instructor->swarm==0.1.0) (1.18.3)\n",
            "Requirement already satisfied: httpcore==1.* in /usr/local/lib/python3.11/dist-packages (from httpx<1,>=0.23.0->openai>=1.33.0->swarm==0.1.0) (1.0.7)\n",
            "Requirement already satisfied: h11<0.15,>=0.13 in /usr/local/lib/python3.11/dist-packages (from httpcore==1.*->httpx<1,>=0.23.0->openai>=1.33.0->swarm==0.1.0) (0.14.0)\n",
            "Requirement already satisfied: MarkupSafe>=2.0 in /usr/local/lib/python3.11/dist-packages (from jinja2<4.0.0,>=3.1.4->instructor->swarm==0.1.0) (3.0.2)\n",
            "Requirement already satisfied: annotated-types>=0.6.0 in /usr/local/lib/python3.11/dist-packages (from pydantic<3,>=1.9.0->openai>=1.33.0->swarm==0.1.0) (0.7.0)\n",
            "Requirement already satisfied: typing-inspection>=0.4.0 in /usr/local/lib/python3.11/dist-packages (from pydantic<3,>=1.9.0->openai>=1.33.0->swarm==0.1.0) (0.4.0)\n",
            "Requirement already satisfied: markdown-it-py>=2.2.0 in /usr/local/lib/python3.11/dist-packages (from rich<14.0.0,>=13.7.0->instructor->swarm==0.1.0) (3.0.0)\n",
            "Requirement already satisfied: pygments<3.0.0,>=2.13.0 in /usr/local/lib/python3.11/dist-packages (from rich<14.0.0,>=13.7.0->instructor->swarm==0.1.0) (2.18.0)\n",
            "Requirement already satisfied: click>=8.0.0 in /usr/local/lib/python3.11/dist-packages (from typer<1.0.0,>=0.9.0->instructor->swarm==0.1.0) (8.1.8)\n",
            "Requirement already satisfied: shellingham>=1.3.0 in /usr/local/lib/python3.11/dist-packages (from typer<1.0.0,>=0.9.0->instructor->swarm==0.1.0) (1.5.4)\n",
            "Requirement already satisfied: distlib<1,>=0.3.7 in /usr/local/lib/python3.11/dist-packages (from virtualenv>=20.10.0->pre-commit->swarm==0.1.0) (0.3.9)\n",
            "Requirement already satisfied: filelock<4,>=3.12.2 in /usr/local/lib/python3.11/dist-packages (from virtualenv>=20.10.0->pre-commit->swarm==0.1.0) (3.18.0)\n",
            "Requirement already satisfied: platformdirs<5,>=3.9.1 in /usr/local/lib/python3.11/dist-packages (from virtualenv>=20.10.0->pre-commit->swarm==0.1.0) (4.3.7)\n",
            "Requirement already satisfied: mdurl~=0.1 in /usr/local/lib/python3.11/dist-packages (from markdown-it-py>=2.2.0->rich<14.0.0,>=13.7.0->instructor->swarm==0.1.0) (0.1.2)\n"
          ]
        }
      ],
      "source": [
        "!pip install git+https://github.com/openai/swarm.git"
      ]
    },
    {
      "cell_type": "markdown",
      "source": [
        "### Set up OpenAI execution environment\n",
        "\n",
        "Retrieve API key from Google Colab secrets and inject into enviroment variables"
      ],
      "metadata": {
        "id": "VR3yfpR1viZe"
      }
    },
    {
      "cell_type": "code",
      "source": [
        "import os\n",
        "from google.colab import userdata\n",
        "\n",
        "os.environ[\"OPENAI_API_KEY\"] = userdata.get('OPENAI_API_KEY')"
      ],
      "metadata": {
        "id": "1zP9k8SPvh8w"
      },
      "execution_count": 21,
      "outputs": []
    },
    {
      "cell_type": "markdown",
      "source": [
        "### A Basic Example\n",
        "\n",
        "Let's see how 2 agents are coordinated."
      ],
      "metadata": {
        "id": "buHcRSvP1o8b"
      }
    },
    {
      "cell_type": "code",
      "source": [
        "from swarm import Swarm, Agent\n",
        "\n",
        "client = Swarm()"
      ],
      "metadata": {
        "id": "S5ZJtLIavWD6"
      },
      "execution_count": 22,
      "outputs": []
    },
    {
      "cell_type": "code",
      "source": [
        "def transfer_to_agent_b():\n",
        "    return agent_b\n",
        "\n",
        "\n",
        "agent_a = Agent(\n",
        "    name=\"Agent A\",\n",
        "    instructions=\"You are a helpful agent.\",\n",
        "    functions=[transfer_to_agent_b],\n",
        ")\n",
        "\n",
        "agent_b = Agent(\n",
        "    name=\"Agent B\",\n",
        "    instructions=\"Only speak in Chinese.\",\n",
        ")"
      ],
      "metadata": {
        "id": "1Jg8qguQvX4T"
      },
      "execution_count": 23,
      "outputs": []
    },
    {
      "cell_type": "code",
      "source": [
        "response = client.run(\n",
        "    agent=agent_a,\n",
        "    messages=[{\"role\": \"user\", \"content\": \"I want to talk to agent B.\"}],\n",
        ")"
      ],
      "metadata": {
        "id": "bGq6KZ3Dvbvr"
      },
      "execution_count": 24,
      "outputs": []
    },
    {
      "cell_type": "code",
      "source": [
        "response.messages"
      ],
      "metadata": {
        "id": "b4pXeaZIvdZC",
        "colab": {
          "base_uri": "https://localhost:8080/"
        },
        "outputId": "5477a3bc-898e-4efd-933b-46f1fd05040d"
      },
      "execution_count": 25,
      "outputs": [
        {
          "output_type": "execute_result",
          "data": {
            "text/plain": [
              "[{'content': None,\n",
              "  'refusal': None,\n",
              "  'role': 'assistant',\n",
              "  'annotations': [],\n",
              "  'audio': None,\n",
              "  'function_call': None,\n",
              "  'tool_calls': [{'id': 'call_JdBPquyvyajYhSQCqrLrSEgR',\n",
              "    'function': {'arguments': '{}', 'name': 'transfer_to_agent_b'},\n",
              "    'type': 'function'}],\n",
              "  'sender': 'Agent A'},\n",
              " {'role': 'tool',\n",
              "  'tool_call_id': 'call_JdBPquyvyajYhSQCqrLrSEgR',\n",
              "  'tool_name': 'transfer_to_agent_b',\n",
              "  'content': '{\"assistant\": \"Agent B\"}'},\n",
              " {'content': '请稍等，我将为您转接到B代理。',\n",
              "  'refusal': None,\n",
              "  'role': 'assistant',\n",
              "  'annotations': [],\n",
              "  'audio': None,\n",
              "  'function_call': None,\n",
              "  'tool_calls': None,\n",
              "  'sender': 'Agent B'}]"
            ]
          },
          "metadata": {},
          "execution_count": 25
        }
      ]
    },
    {
      "cell_type": "code",
      "source": [
        "response.messages[-1][\"content\"]"
      ],
      "metadata": {
        "id": "DHXjmp821VMZ",
        "colab": {
          "base_uri": "https://localhost:8080/",
          "height": 35
        },
        "outputId": "85717a98-017b-4ef2-deca-dda2671f0808"
      },
      "execution_count": 26,
      "outputs": [
        {
          "output_type": "execute_result",
          "data": {
            "text/plain": [
              "'请稍等，我将为您转接到B代理。'"
            ],
            "application/vnd.google.colaboratory.intrinsic+json": {
              "type": "string"
            }
          },
          "metadata": {},
          "execution_count": 26
        }
      ]
    },
    {
      "cell_type": "markdown",
      "source": [
        "### Example 2 - Weather Agent\n",
        "\n",
        "It's based on one of the examples OpenAI Swarm published - https://github.com/openai/swarm/tree/main/examples/weather_agent"
      ],
      "metadata": {
        "id": "IjVUNgnk10OJ"
      }
    },
    {
      "cell_type": "code",
      "source": [
        "import json\n",
        "\n",
        "def get_weather(location, time=\"now\"):\n",
        "    \"\"\"Get the current weather in a given location. Location MUST be a city.\"\"\"\n",
        "    return json.dumps({\"location\": location, \"temperature\": \"65\", \"time\": time})\n",
        "\n",
        "\n",
        "def send_email(recipient, subject, body):\n",
        "    print(\"Sending email...\")\n",
        "    print(f\"To: {recipient}\")\n",
        "    print(f\"Subject: {subject}\")\n",
        "    print(f\"Body: {body}\")\n",
        "    return \"Sent!\"\n",
        "\n",
        "\n",
        "weather_agent = Agent(\n",
        "    name=\"Weather Agent\",\n",
        "    instructions=\"You are a helpful agent.\",\n",
        "    functions=[get_weather, send_email],\n",
        ")"
      ],
      "metadata": {
        "id": "XZ1ikTHa2Jkt"
      },
      "execution_count": 27,
      "outputs": []
    },
    {
      "cell_type": "code",
      "source": [
        "response = client.run(\n",
        "    agent=weather_agent,\n",
        "    messages=[{\"role\": \"user\", \"content\": \"Send me the weather in Beijing today.\"}],\n",
        ")"
      ],
      "metadata": {
        "id": "nSKX2kMV2oIE"
      },
      "execution_count": 28,
      "outputs": []
    },
    {
      "cell_type": "code",
      "source": [
        "response.messages"
      ],
      "metadata": {
        "id": "TiauwOTn29Qd",
        "colab": {
          "base_uri": "https://localhost:8080/"
        },
        "outputId": "e838cc09-56ca-4af0-c8d1-a0117d0470ae"
      },
      "execution_count": 29,
      "outputs": [
        {
          "output_type": "execute_result",
          "data": {
            "text/plain": [
              "[{'content': None,\n",
              "  'refusal': None,\n",
              "  'role': 'assistant',\n",
              "  'annotations': [],\n",
              "  'audio': None,\n",
              "  'function_call': None,\n",
              "  'tool_calls': [{'id': 'call_wmOZbiIfD0PAa2k6XVUNBcNw',\n",
              "    'function': {'arguments': '{\"location\":\"Beijing\",\"time\":\"today\"}',\n",
              "     'name': 'get_weather'},\n",
              "    'type': 'function'}],\n",
              "  'sender': 'Weather Agent'},\n",
              " {'role': 'tool',\n",
              "  'tool_call_id': 'call_wmOZbiIfD0PAa2k6XVUNBcNw',\n",
              "  'tool_name': 'get_weather',\n",
              "  'content': '{\"location\": \"Beijing\", \"temperature\": \"65\", \"time\": \"today\"}'},\n",
              " {'content': 'The weather in Beijing today is 65°F.',\n",
              "  'refusal': None,\n",
              "  'role': 'assistant',\n",
              "  'annotations': [],\n",
              "  'audio': None,\n",
              "  'function_call': None,\n",
              "  'tool_calls': None,\n",
              "  'sender': 'Weather Agent'}]"
            ]
          },
          "metadata": {},
          "execution_count": 29
        }
      ]
    },
    {
      "cell_type": "markdown",
      "source": [
        "## Components Introduction"
      ],
      "metadata": {
        "id": "AAgqmo12Ekks"
      }
    },
    {
      "cell_type": "markdown",
      "source": [
        "### Swarm Client\n",
        "\n",
        "Swarm client internally just instantiates an OpenAI client."
      ],
      "metadata": {
        "id": "Upq59ULpEp-T"
      }
    },
    {
      "cell_type": "code",
      "source": [
        "from swarm import Swarm\n",
        "from openai import OpenAI\n",
        "\n",
        "client = OpenAI(\n",
        "    api_key=os.environ[\"OPENAI_API_KEY\"],\n",
        "    base_url=\"https://api.openai.com/v1\"\n",
        ")\n",
        "\n",
        "swarm = Swarm(client=client)"
      ],
      "metadata": {
        "id": "Z5Z4HkoqE_-p"
      },
      "execution_count": 30,
      "outputs": []
    },
    {
      "cell_type": "markdown",
      "source": [
        "### Agents\n",
        "\n",
        "An Agent encapsulates a set of instructions with a set of functions (plus some additional settings below), and has the capability to hand off execution to another Agent."
      ],
      "metadata": {
        "id": "TXqfqWjJEs3l"
      }
    },
    {
      "cell_type": "code",
      "source": [
        "def instructions(context_variables):\n",
        "   user_name = context_variables[\"user_name\"]\n",
        "   return f\"You are the receptionist of company Tesla. {user_name} is coming to your reception. You should welcome with its name.\"\n",
        "\n",
        "agent = Agent(instructions=instructions)"
      ],
      "metadata": {
        "id": "mfetx01XFvBK"
      },
      "execution_count": 31,
      "outputs": []
    },
    {
      "cell_type": "markdown",
      "source": [
        "Swarm client runs with the agent."
      ],
      "metadata": {
        "id": "vywRKKeQF2FE"
      }
    },
    {
      "cell_type": "code",
      "source": [
        "response = swarm.run(\n",
        "    agent=agent,\n",
        "    messages=[{\"role\":\"user\", \"content\": \"Hi!\"}],\n",
        "    context_variables={\n",
        "        \"user_name\":\"VerySmallWoods\"\n",
        "    }\n",
        ")\n",
        "print(response.messages[-1][\"content\"])"
      ],
      "metadata": {
        "id": "vIPa8uRdF5jI",
        "colab": {
          "base_uri": "https://localhost:8080/"
        },
        "outputId": "ebd470f9-a336-4ded-fe52-55e4b11250ad"
      },
      "execution_count": 32,
      "outputs": [
        {
          "output_type": "stream",
          "name": "stdout",
          "text": [
            "Hello, VerySmallWoods! Welcome to Tesla! How can I assist you today?\n"
          ]
        }
      ]
    },
    {
      "cell_type": "markdown",
      "source": [
        "### Functions\n",
        "\n",
        "The functions called by Swarm Agents should usually return a str (values will be attempted to be cast as a str), or an Agent.\n",
        "\n",
        "When an Agent is returned, the execution will be transferred to that one.\n",
        "\n",
        "If a function defines a context_variables parameter, it will be populated by the context_variables passed into\n",
        "`client.run()`.\n"
      ],
      "metadata": {
        "id": "DThMZEyJEvGK"
      }
    },
    {
      "cell_type": "markdown",
      "source": [
        "#### Handsoff and Context Variables Update\n",
        "\n",
        "An Agent can hand off to another Agent by returning it in a function, and update the context variables by returning a more complete `Result` object."
      ],
      "metadata": {
        "id": "4jQQSBoNKf0r"
      }
    },
    {
      "cell_type": "markdown",
      "source": [
        "**Handsoff to another agent**"
      ],
      "metadata": {
        "id": "_QOo5Q06K87Q"
      }
    },
    {
      "cell_type": "code",
      "source": [
        "sales_agent = Agent(name=\"Sales Agent\")\n",
        "\n",
        "def transfer_to_sales():\n",
        "   return sales_agent\n",
        "\n",
        "agent = Agent(functions=[transfer_to_sales])\n",
        "\n",
        "response = swarm.run(agent, [{\"role\":\"user\", \"content\":\"Transfer me to sales.\"}])\n",
        "print(response.agent.name)"
      ],
      "metadata": {
        "id": "8ntiHb_vKDak",
        "colab": {
          "base_uri": "https://localhost:8080/"
        },
        "outputId": "d2c59aa9-134b-4724-99a9-f310cf505b79"
      },
      "execution_count": 33,
      "outputs": [
        {
          "output_type": "stream",
          "name": "stdout",
          "text": [
            "Sales Agent\n"
          ]
        }
      ]
    },
    {
      "cell_type": "code",
      "source": [
        "response.messages"
      ],
      "metadata": {
        "colab": {
          "base_uri": "https://localhost:8080/"
        },
        "id": "cBXj5-idyZtq",
        "outputId": "c6596a36-34a7-4783-b614-f0e9aa5cf103"
      },
      "execution_count": 34,
      "outputs": [
        {
          "output_type": "execute_result",
          "data": {
            "text/plain": [
              "[{'content': None,\n",
              "  'refusal': None,\n",
              "  'role': 'assistant',\n",
              "  'annotations': [],\n",
              "  'audio': None,\n",
              "  'function_call': None,\n",
              "  'tool_calls': [{'id': 'call_jGo8joYRYU9b29En6tcs8DEW',\n",
              "    'function': {'arguments': '{}', 'name': 'transfer_to_sales'},\n",
              "    'type': 'function'}],\n",
              "  'sender': 'Agent'},\n",
              " {'role': 'tool',\n",
              "  'tool_call_id': 'call_jGo8joYRYU9b29En6tcs8DEW',\n",
              "  'tool_name': 'transfer_to_sales',\n",
              "  'content': '{\"assistant\": \"Sales Agent\"}'},\n",
              " {'content': \"I've transferred you to a sales agent. How can they assist you today?\",\n",
              "  'refusal': None,\n",
              "  'role': 'assistant',\n",
              "  'annotations': [],\n",
              "  'audio': None,\n",
              "  'function_call': None,\n",
              "  'tool_calls': None,\n",
              "  'sender': 'Sales Agent'}]"
            ]
          },
          "metadata": {},
          "execution_count": 34
        }
      ]
    },
    {
      "cell_type": "markdown",
      "source": [
        "**Update the context variables**"
      ],
      "metadata": {
        "id": "LxCxle6QLCNy"
      }
    },
    {
      "cell_type": "code",
      "source": [
        "from swarm.core import Swarm, Agent, Result # Import the Result class from swarm.core\n",
        "\n",
        "def talk_to_sales():\n",
        "   print(\"Hello, World!\")\n",
        "   return Result(\n",
        "       value=\"Done\",\n",
        "       agent=sales_agent,\n",
        "       context_variables={\"department\": \"sales\"}\n",
        "   )\n",
        "\n",
        "agent = Agent(functions=[talk_to_sales])\n",
        "\n",
        "response = swarm.run(\n",
        "   agent=agent,\n",
        "   messages=[{\"role\": \"user\", \"content\": \"Transfer me to sales\"}],\n",
        "   context_variables={\"user_name\": \"John\"}\n",
        ")\n",
        "print(response.agent.name)\n",
        "print(response.context_variables)"
      ],
      "metadata": {
        "id": "o3rHE8MgKE1w",
        "colab": {
          "base_uri": "https://localhost:8080/"
        },
        "outputId": "490015d7-865b-41b8-f4cf-8f9724bfafca"
      },
      "execution_count": 35,
      "outputs": [
        {
          "output_type": "stream",
          "name": "stdout",
          "text": [
            "Hello, World!\n",
            "Sales Agent\n",
            "{'user_name': 'John', 'department': 'sales'}\n"
          ]
        }
      ]
    }
  ]
}